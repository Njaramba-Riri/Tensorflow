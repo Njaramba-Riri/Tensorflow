{
 "cells": [
  {
   "cell_type": "code",
   "execution_count": 1,
   "metadata": {
    "tags": []
   },
   "outputs": [
    {
     "name": "stderr",
     "output_type": "stream",
     "text": [
      "2024-06-05 20:38:40.677250: I external/local_tsl/tsl/cuda/cudart_stub.cc:32] Could not find cuda drivers on your machine, GPU will not be used.\n",
      "2024-06-05 20:38:42.406130: I external/local_tsl/tsl/cuda/cudart_stub.cc:32] Could not find cuda drivers on your machine, GPU will not be used.\n",
      "2024-06-05 20:38:59.789035: W tensorflow/compiler/tf2tensorrt/utils/py_utils.cc:38] TF-TRT Warning: Could not find TensorRT\n"
     ]
    }
   ],
   "source": [
    "import tensorflow as tf"
   ]
  },
  {
   "cell_type": "code",
   "execution_count": 6,
   "metadata": {
    "tags": []
   },
   "outputs": [],
   "source": [
    "tf.random.set_seed(1)\n",
    "\n",
    "rnn_layer = tf.keras.layers.SimpleRNN(units=2, use_bias=True, return_sequences=True)\n",
    "rnn_layer.build(sequences_shape=(None, None, 5))"
   ]
  },
  {
   "cell_type": "code",
   "execution_count": 7,
   "metadata": {
    "tags": []
   },
   "outputs": [
    {
     "name": "stdout",
     "output_type": "stream",
     "text": [
      "W_XH shape: (5, 2)\n",
      "W_OO shape: (2, 2)\n",
      "B_H shape: (2,)\n"
     ]
    }
   ],
   "source": [
    "w_xh, w_oo, b_h = rnn_layer.weights\n",
    "\n",
    "print(f\"W_XH shape: {w_xh.shape}\\nW_OO shape: {w_oo.shape}\\nB_H shape: {b_h.shape}\")"
   ]
  },
  {
   "cell_type": "code",
   "execution_count": 10,
   "metadata": {
    "tags": []
   },
   "outputs": [],
   "source": [
    "x_seq = tf.convert_to_tensor([[1.0]*5, [2.0]*5, [3.0]*5], dtype=tf.float32)\n",
    "output = rnn_layer(tf.reshape(x_seq, shape=(1, 3, 5)))"
   ]
  },
  {
   "cell_type": "code",
   "execution_count": 16,
   "metadata": {
    "tags": []
   },
   "outputs": [
    {
     "name": "stdout",
     "output_type": "stream",
     "text": [
      "Time step 0 ==>\n",
      "    Input            : [[1. 1. 1. 1. 1.]]\n",
      "    Hidden           : [[-0.0303607 -1.4157586]]\n",
      "    Output (manual)  : [[-0.03035137 -0.8887108 ]]\n",
      "    SimpleRNN output :  [-0.03035137 -0.8887108 ]\n",
      "\n",
      "Time step 1 ==>\n",
      "    Input            : [[2. 2. 2. 2. 2.]]\n",
      "    Hidden           : [[-0.0607214 -2.8315172]]\n",
      "    Output (manual)  : [[ 0.44155   -0.9983243]]\n",
      "    SimpleRNN output :  [ 0.44155   -0.9983243]\n",
      "\n",
      "Time step 2 ==>\n",
      "    Input            : [[3. 3. 3. 3. 3.]]\n",
      "    Hidden           : [[-0.09108204 -4.247276  ]]\n",
      "    Output (manual)  : [[ 0.11966759 -0.9999521 ]]\n",
      "    SimpleRNN output :  [ 0.11966759 -0.9999521 ]\n",
      "\n"
     ]
    }
   ],
   "source": [
    "out_man = []\n",
    "\n",
    "for t in range(len(x_seq)):\n",
    "    xt = tf.reshape(x_seq[t], (1, 5))\n",
    "    print(\"Time step {} ==>\".format(t))\n",
    "    \n",
    "    print('    Input            :', xt.numpy()) \n",
    "    ht = tf.matmul(xt, w_xh) + b_h\n",
    "    print('    Hidden           :', ht.numpy())\n",
    "    \n",
    "    if t > 0:\n",
    "        prev_o = out_man[t-1]\n",
    "    else:\n",
    "        prev_o = tf.zeros(shape=(ht.shape))\n",
    "        \n",
    "    ot = ht + tf.matmul(prev_o, w_oo)\n",
    "    ot = tf.math.tanh(ot)\n",
    "    out_man.append(ot)\n",
    "    print('    Output (manual)  :', ot.numpy())\n",
    "    print('    SimpleRNN output : '.format(t),output[0][t].numpy())\n",
    "    print()"
   ]
  },
  {
   "cell_type": "code",
   "execution_count": null,
   "metadata": {},
   "outputs": [],
   "source": []
  }
 ],
 "metadata": {
  "kernelspec": {
   "display_name": "Python 3 (ipykernel)",
   "language": "python",
   "name": "python3"
  },
  "language_info": {
   "codemirror_mode": {
    "name": "ipython",
    "version": 3
   },
   "file_extension": ".py",
   "mimetype": "text/x-python",
   "name": "python",
   "nbconvert_exporter": "python",
   "pygments_lexer": "ipython3",
   "version": "3.10.12"
  }
 },
 "nbformat": 4,
 "nbformat_minor": 4
}
