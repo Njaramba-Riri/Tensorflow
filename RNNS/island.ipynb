{
  "cells": [
    {
      "cell_type": "code",
      "execution_count": null,
      "metadata": {
        "id": "muBwO9HP2NMO"
      },
      "outputs": [],
      "source": [
        "import numpy as np\n",
        "\n",
        "from google.colab import drive\n",
        "import tensorflow as tf"
      ]
    },
    {
      "cell_type": "code",
      "source": [
        "drive.mount('/content/drive')"
      ],
      "metadata": {
        "colab": {
          "base_uri": "https://localhost:8080/"
        },
        "id": "kwHcK_SO5oOo",
        "outputId": "b378cbc5-605e-49a6-edad-4ec10357a158"
      },
      "execution_count": null,
      "outputs": [
        {
          "output_type": "stream",
          "name": "stdout",
          "text": [
            "Mounted at /content/drive\n"
          ]
        }
      ]
    },
    {
      "cell_type": "code",
      "execution_count": null,
      "metadata": {
        "id": "5baZovTU2NMU"
      },
      "outputs": [],
      "source": [
        "with open('sample_data/island.txt', 'r') as f:\n",
        "    text = f.read()"
      ]
    },
    {
      "cell_type": "code",
      "execution_count": null,
      "metadata": {
        "id": "H2h_094s2NMV",
        "outputId": "b2b1702d-8113-4b45-c4c0-3d07d7a27c9b",
        "colab": {
          "base_uri": "https://localhost:8080/"
        }
      },
      "outputs": [
        {
          "output_type": "stream",
          "name": "stdout",
          "text": [
            "Total Length: 1130710\n"
          ]
        }
      ],
      "source": [
        "start_indx = text.find('THE MYSTERIOUS ISLAND')\n",
        "end_indx = text.find('End of the Project Gutenberg')\n",
        "text = text[start_indx:end_indx]\n",
        "char_set = set(text)\n",
        "\n",
        "print('Total Length:', len(text))"
      ]
    },
    {
      "cell_type": "code",
      "execution_count": null,
      "metadata": {
        "id": "Y92LxO0v2NMX",
        "outputId": "0b4e1241-b828-48a8-eca3-2345e7ad2c00",
        "colab": {
          "base_uri": "https://localhost:8080/"
        }
      },
      "outputs": [
        {
          "output_type": "stream",
          "name": "stdout",
          "text": [
            "Unique Characters: 85\n"
          ]
        }
      ],
      "source": [
        "print('Unique Characters:', len(char_set))"
      ]
    },
    {
      "cell_type": "code",
      "execution_count": null,
      "metadata": {
        "id": "_MBPBKA02NMZ"
      },
      "outputs": [],
      "source": [
        "chars_sorted = sorted(char_set)\n",
        "char2int = {ch:i for i, ch in enumerate(chars_sorted) }\n",
        "char_array = np.array(chars_sorted)"
      ]
    },
    {
      "cell_type": "code",
      "execution_count": null,
      "metadata": {
        "id": "yG7Hyprk2NMa",
        "outputId": "c51ae037-4a0f-4d3c-e4cc-05178175ca75",
        "colab": {
          "base_uri": "https://localhost:8080/"
        }
      },
      "outputs": [
        {
          "output_type": "stream",
          "name": "stdout",
          "text": [
            "Text encoded shape:  (1130710,)\n"
          ]
        }
      ],
      "source": [
        "text_encoded = np.array([char2int[ch] for ch in text], dtype=np.int32)\n",
        "print(\"Text encoded shape: \", text_encoded.shape)"
      ]
    },
    {
      "cell_type": "code",
      "execution_count": null,
      "metadata": {
        "id": "qXr6Be6T2NMb",
        "outputId": "47815ed5-fc06-4ddf-b852-ea11bfe2e700",
        "colab": {
          "base_uri": "https://localhost:8080/"
        }
      },
      "outputs": [
        {
          "output_type": "stream",
          "name": "stdout",
          "text": [
            "THE MYSTERIOUS  === Encoded ==>  [48 36 33  1 41 53 47 48 33 46 37 43 49 47  1]\n"
          ]
        }
      ],
      "source": [
        "print(text[:15], '=== Encoded ==> ', text_encoded[:15])"
      ]
    },
    {
      "cell_type": "code",
      "execution_count": null,
      "metadata": {
        "id": "qxJx4t1Z2NMb",
        "outputId": "b7aaa3b4-f9b6-4895-b92b-c5d65e6caeab",
        "colab": {
          "base_uri": "https://localhost:8080/"
        }
      },
      "outputs": [
        {
          "output_type": "stream",
          "name": "stdout",
          "text": [
            "[37 47 40 29 42 32  1 10 10 10  0  0  0  0  0 48 36 33  1 41] === reverse ==> ISLAND ***\n",
            "\n",
            "\n",
            "\n",
            "\n",
            "THE M\n"
          ]
        }
      ],
      "source": [
        "print(text_encoded[15:35], '=== reverse ==>', ''.join(char_array[text_encoded[15:35]]))"
      ]
    },
    {
      "cell_type": "code",
      "execution_count": null,
      "metadata": {
        "id": "HKTUrbni2NMc",
        "outputId": "4d913e0a-9007-40c8-d3da-3626e07775a2",
        "colab": {
          "base_uri": "https://localhost:8080/"
        }
      },
      "outputs": [
        {
          "output_type": "stream",
          "name": "stdout",
          "text": [
            "48 --> T\n",
            "36 --> H\n",
            "33 --> E\n",
            "1 -->  \n",
            "41 --> M\n"
          ]
        }
      ],
      "source": [
        "ds_text_encoded = tf.data.Dataset.from_tensor_slices(text_encoded)\n",
        "\n",
        "for example in ds_text_encoded.take(5):\n",
        "    print('{} --> {}'.format(example.numpy(), char_array[example.numpy()]))"
      ]
    },
    {
      "cell_type": "code",
      "execution_count": null,
      "metadata": {
        "id": "pg1D02fa2NMd"
      },
      "outputs": [],
      "source": [
        "seq_len = 50\n",
        "chunk_size = seq_len + 1\n",
        "\n",
        "ds_chunks = ds_text_encoded.batch(batch_size=chunk_size, drop_remainder=True)"
      ]
    },
    {
      "cell_type": "code",
      "execution_count": null,
      "metadata": {
        "id": "vvhxZB6o2NMe"
      },
      "outputs": [],
      "source": [
        "def split_input_target(chunk):\n",
        "    input_seq = chunk[:-1]\n",
        "    target_seq = chunk[1:]\n",
        "\n",
        "    return input_seq, target_seq\n",
        "\n",
        "ds_sequences = ds_chunks.map(split_input_target)"
      ]
    },
    {
      "cell_type": "code",
      "execution_count": null,
      "metadata": {
        "id": "4cKFRp5Y2NMe",
        "outputId": "ff52043d-b09c-4580-d1d5-d7fe72c77597",
        "colab": {
          "base_uri": "https://localhost:8080/"
        }
      },
      "outputs": [
        {
          "output_type": "stream",
          "name": "stdout",
          "text": [
            "  Input (x) :  'THE MYSTERIOUS ISLAND ***\\n\\n\\n\\n\\nTHE MYSTERIOUS ISLAN'\n",
            "  Target (y)  :  'HE MYSTERIOUS ISLAND ***\\n\\n\\n\\n\\nTHE MYSTERIOUS ISLAND'\n",
            "\n",
            "  Input (x) :  '\\n\\nby Jules Verne\\n\\n1874\\n\\n\\n\\n\\nPART 1--DROPPED FROM TH'\n",
            "  Target (y)  :  '\\nby Jules Verne\\n\\n1874\\n\\n\\n\\n\\nPART 1--DROPPED FROM THE'\n",
            "\n"
          ]
        }
      ],
      "source": [
        "for sample in ds_sequences.take(2):\n",
        "    print('  Input (x) : ', repr(''.join(char_array[sample[0].numpy()])))\n",
        "    print('  Target (y)  : ', repr(''.join(char_array[sample[1].numpy()])))\n",
        "    print()"
      ]
    },
    {
      "cell_type": "code",
      "execution_count": null,
      "metadata": {
        "id": "wnXaA7I-2NMe"
      },
      "outputs": [],
      "source": [
        "BATCH_SIZE = 64\n",
        "BUFFER_SIZE = 10000\n",
        "\n",
        "ds = ds_sequences.shuffle(BUFFER_SIZE).batch(batch_size=BATCH_SIZE)"
      ]
    },
    {
      "cell_type": "markdown",
      "metadata": {
        "id": "otuA5q972NMf"
      },
      "source": [
        "#### Building a character-level RNN model."
      ]
    },
    {
      "cell_type": "code",
      "execution_count": null,
      "metadata": {
        "id": "ujiyE0qb2NMh"
      },
      "outputs": [],
      "source": [
        "def build_model(vocab_size, embedding_dim, rnn_units):\n",
        "    model = tf.keras.Sequential([\n",
        "        tf.keras.layers.Embedding(vocab_size, embedding_dim),\n",
        "        tf.keras.layers.LSTM(rnn_units, return_sequences=True),\n",
        "        tf.keras.layers.Dense(vocab_size)\n",
        "    ])\n",
        "\n",
        "    return model"
      ]
    },
    {
      "cell_type": "code",
      "execution_count": null,
      "metadata": {
        "id": "zEAvQgrg2NMh"
      },
      "outputs": [],
      "source": [
        "#Set training parameters.\n",
        "charset_size = len(char_array)\n",
        "embedding_dim = 256\n",
        "rnn_units = 512"
      ]
    },
    {
      "cell_type": "code",
      "execution_count": null,
      "metadata": {
        "id": "sZI_IyKr2NMh",
        "outputId": "729d0d6a-077b-4289-da5b-c4be674387cf",
        "colab": {
          "base_uri": "https://localhost:8080/"
        }
      },
      "outputs": [
        {
          "output_type": "stream",
          "name": "stdout",
          "text": [
            "Model: \"sequential\"\n",
            "_________________________________________________________________\n",
            " Layer (type)                Output Shape              Param #   \n",
            "=================================================================\n",
            " embedding (Embedding)       (None, None, 256)         21760     \n",
            "                                                                 \n",
            " lstm (LSTM)                 (None, None, 512)         1574912   \n",
            "                                                                 \n",
            " dense (Dense)               (None, None, 85)          43605     \n",
            "                                                                 \n",
            "=================================================================\n",
            "Total params: 1640277 (6.26 MB)\n",
            "Trainable params: 1640277 (6.26 MB)\n",
            "Non-trainable params: 0 (0.00 Byte)\n",
            "_________________________________________________________________\n"
          ]
        }
      ],
      "source": [
        "tf.random.set_seed(42)\n",
        "\n",
        "model = build_model(vocab_size=charset_size,\n",
        "                    embedding_dim=embedding_dim,\n",
        "                    rnn_units=rnn_units)\n",
        "\n",
        "model.summary()"
      ]
    },
    {
      "cell_type": "code",
      "execution_count": null,
      "metadata": {
        "id": "7KgnB47N2NMi"
      },
      "outputs": [],
      "source": [
        "model.compile(optimizer='adam',\n",
        "              loss=tf.keras.losses.SparseCategoricalCrossentropy(from_logits=True))"
      ]
    },
    {
      "cell_type": "code",
      "execution_count": null,
      "metadata": {
        "id": "oPpRb9f92NMi",
        "outputId": "33abf719-3ddd-4baf-a746-22d6b1b06a50",
        "colab": {
          "base_uri": "https://localhost:8080/"
        }
      },
      "outputs": [
        {
          "output_type": "stream",
          "name": "stdout",
          "text": [
            "Epoch 1/20\n",
            "347/347 [==============================] - 13s 20ms/step - loss: 2.4193\n",
            "Epoch 2/20\n",
            "347/347 [==============================] - 7s 17ms/step - loss: 1.8209\n",
            "Epoch 3/20\n",
            "347/347 [==============================] - 6s 15ms/step - loss: 1.6066\n",
            "Epoch 4/20\n",
            "347/347 [==============================] - 7s 16ms/step - loss: 1.4830\n",
            "Epoch 5/20\n",
            "347/347 [==============================] - 6s 15ms/step - loss: 1.4002\n",
            "Epoch 6/20\n",
            "347/347 [==============================] - 8s 19ms/step - loss: 1.3422\n",
            "Epoch 7/20\n",
            "347/347 [==============================] - 6s 15ms/step - loss: 1.2981\n",
            "Epoch 8/20\n",
            "347/347 [==============================] - 6s 15ms/step - loss: 1.2623\n",
            "Epoch 9/20\n",
            "347/347 [==============================] - 7s 16ms/step - loss: 1.2328\n",
            "Epoch 10/20\n",
            "347/347 [==============================] - 6s 16ms/step - loss: 1.2078\n",
            "Epoch 11/20\n",
            "347/347 [==============================] - 7s 15ms/step - loss: 1.1867\n",
            "Epoch 12/20\n",
            "347/347 [==============================] - 8s 20ms/step - loss: 1.1668\n",
            "Epoch 13/20\n",
            "347/347 [==============================] - 7s 16ms/step - loss: 1.1486\n",
            "Epoch 14/20\n",
            "347/347 [==============================] - 6s 16ms/step - loss: 1.1328\n",
            "Epoch 15/20\n",
            "347/347 [==============================] - 8s 20ms/step - loss: 1.1176\n",
            "Epoch 16/20\n",
            "347/347 [==============================] - 6s 16ms/step - loss: 1.1035\n",
            "Epoch 17/20\n",
            "347/347 [==============================] - 9s 23ms/step - loss: 1.0896\n",
            "Epoch 18/20\n",
            "347/347 [==============================] - 7s 17ms/step - loss: 1.0767\n",
            "Epoch 19/20\n",
            "347/347 [==============================] - 9s 16ms/step - loss: 1.0640\n",
            "Epoch 20/20\n",
            "347/347 [==============================] - 9s 23ms/step - loss: 1.0520\n"
          ]
        },
        {
          "output_type": "execute_result",
          "data": {
            "text/plain": [
              "<keras.src.callbacks.History at 0x7d543d77eb60>"
            ]
          },
          "metadata": {},
          "execution_count": 20
        }
      ],
      "source": [
        "model.fit(ds, epochs=20)"
      ]
    },
    {
      "cell_type": "markdown",
      "metadata": {
        "id": "7NPKoSrh2NMi"
      },
      "source": [
        "#### Evaluation phase – generating new text passages."
      ]
    },
    {
      "cell_type": "code",
      "execution_count": null,
      "metadata": {
        "id": "9PLbYhAU2NMj",
        "colab": {
          "base_uri": "https://localhost:8080/"
        },
        "outputId": "faa41c09-adc3-4c28-f081-a378de550f42"
      },
      "outputs": [
        {
          "output_type": "stream",
          "name": "stdout",
          "text": [
            "Probabilities:  [0.33333334 0.33333334 0.33333334]\n"
          ]
        }
      ],
      "source": [
        "tf.random.set_seed(42)\n",
        "\n",
        "logits = [[1.0, 1.0, 1.0]]\n",
        "print('Probabilities: ', tf.math.softmax(logits).numpy()[0])"
      ]
    },
    {
      "cell_type": "code",
      "execution_count": null,
      "metadata": {
        "id": "-V0hNmkK2NMj",
        "colab": {
          "base_uri": "https://localhost:8080/"
        },
        "outputId": "a6eeebc0-38f4-4a3d-d08a-a45e17d455da"
      },
      "outputs": [
        {
          "output_type": "stream",
          "name": "stdout",
          "text": [
            "array([[0, 2, 1, 2, 2, 0, 2, 2, 0, 1]])\n"
          ]
        }
      ],
      "source": [
        "samples = tf.random.categorical(logits=logits, num_samples=10)\n",
        "tf.print(samples.numpy())"
      ]
    },
    {
      "cell_type": "code",
      "execution_count": null,
      "metadata": {
        "id": "ank-_ySO2NMk"
      },
      "outputs": [],
      "source": [
        "def sample(model, starting_str,\n",
        "           len_generated_txt=700,\n",
        "           max_input_length=50, scale_factor=1.0):\n",
        "    encoded_input = [char2int[s] for s in starting_str]\n",
        "    encoded_input = tf.reshape(encoded_input, (1, -1))\n",
        "\n",
        "    generated_str = starting_str\n",
        "    model.reset_states()\n",
        "    for i in range(len_generated_txt):\n",
        "        logits = model(encoded_input)\n",
        "        logits = tf.squeeze(logits, 0)\n",
        "\n",
        "        scaled_logits = logits * scale_factor\n",
        "        new_char_idx = tf.random.categorical(scaled_logits, num_samples=1)\n",
        "        new_char_idx = tf.squeeze(new_char_idx)[-1].numpy()\n",
        "\n",
        "        generated_str += str(char_array[new_char_idx])\n",
        "        new_char_idx = tf.expand_dims([new_char_idx], 0)\n",
        "        encoded_input = tf.concat([encoded_input, new_char_idx], axis=1)\n",
        "        encoded_input = encoded_input[:, -max_input_length:]\n",
        "\n",
        "    return generated_str"
      ]
    },
    {
      "cell_type": "code",
      "source": [
        "tf.random.set_seed(1)\n",
        "print(sample(model, starting_str='Machine Learning'))"
      ],
      "metadata": {
        "colab": {
          "base_uri": "https://localhost:8080/"
        },
        "id": "61yh2apL8dH0",
        "outputId": "5d69129c-462a-4d17-f260-ca2017a1f289"
      },
      "execution_count": null,
      "outputs": [
        {
          "output_type": "stream",
          "name": "stdout",
          "text": [
            "Machine Learning, at its four words,”\n",
            "said the reporter.\n",
            "\n",
            "“Telliged the base were regarly to work where you have been almost unable to\n",
            "least also four enormous support of the coast. He wished to return to the box wounded.\n",
            "\n",
            "“Hullocks now even comes in the depths; to the pressure was to be no manquived with the plateau of Prospect Heights! The ore of the sky\n",
            "was certoring in to fear it opportant provine some time, and in proad and such as on the periments,\n",
            "its sun statissude of fiercess, that Neb returned, and that\n",
            "even if he was difinedred! What do it was then he had lowered\n",
            "above the last of the Mercy, succumbless in the wood.\n",
            "\n",
            "“My med!” cried Neb, Ayrton, and Pondisting, transformed into the sea.\n",
            "\n",
            "Moreover\n"
          ]
        }
      ]
    },
    {
      "cell_type": "code",
      "source": [
        "model.save('Island.keras')"
      ],
      "metadata": {
        "id": "LQAoiAGU8ryC"
      },
      "execution_count": null,
      "outputs": []
    },
    {
      "cell_type": "code",
      "source": [
        "loaded = tf.keras.models.load_model('Island.keras')"
      ],
      "metadata": {
        "id": "iC9WwXXP9vnr"
      },
      "execution_count": null,
      "outputs": []
    },
    {
      "cell_type": "code",
      "source": [
        "print(sample(loaded, starting_str='This life is not', len_generated_txt=5000))"
      ],
      "metadata": {
        "colab": {
          "base_uri": "https://localhost:8080/"
        },
        "id": "qhj-kgF4-XhS",
        "outputId": "93254ac4-3a1d-4bb9-8e74-549d3adeb7e8"
      },
      "execution_count": null,
      "outputs": [
        {
          "output_type": "stream",
          "name": "stdout",
          "text": [
            "This life is not to- the island came one of Poly so as to\n",
            "arrive her to staped and who brisking his sailor beasts.\n",
            "\n",
            "The storm rowed upon every one of that east more ony for\n",
            "others shout the colonists to gain. In exploration, rose happened with a little so that the brig, whose showest mineral forests of the bullet. It was always\n",
            "parts of the island, Spiceats ascended to the southwest.\n",
            "\n",
            "But it was to attack for a long sudden ground, thanks of the\n",
            "productions of their dwates which forms, which might indicaries, and previsious occurred in the\n",
            "body, and the reporter’s gate, it is formerly clearing in the\n",
            "world. These watered at two miles. The next day was this. He then could veowed that water, but they did not still a northern parts of the Mercy, standing during the shore.\n",
            "\n",
            "Twister forces to the volcanic aculor, and beat at the islet on the other from the\n",
            "skints. Foredar placember, as well wires that in at what\n",
            "willand fevel of you by that part of this limisting arrived at\n",
            "a massacripilators, stood and a new mometn’s border of utter.\n",
            "\n",
            "From it well, then the sailor, or net out a thick fortunate man for a pieces where behabited, much to the heat\n",
            "of the islet was now in subtern cabinside, when\n",
            "the strangers walked up on the island of anishmittent and a shoulders from the coast.\n",
            "\n",
            "Ayrton stopped through the day on this crew trace one on the Pacific, but as yes, appeared to be eas\n",
            "as yet without success. The destant peally sheltered at the sipe by rest, and Pencroft was surprising, and without steptute, and, in the mouth of the Project Gutenberg-tm Licens\n",
            "Nature was not means of regarding by the southeastern had explaimen, that in the\n",
            "meanwhile nothing effort judging about the walls of first.”\n",
            "\n",
            "“Welt the moony, my friend, or day, she him,” observed the sailor; “It is that only a\n",
            "lake was sot accured to Lincolnivola and years, and whom they lighted\n",
            "all the disposal to the appearance, although without\n",
            "but disted it, but because it one poofising, the number\n",
            "of use useful suspection at\n",
            "the solid trace of\n",
            "the islet. The rapid of this deat not to the interior of this beach, but\n",
            "for, you would presement!” he cried, the matter would\n",
            "be new breeze in Granite House.\n",
            "\n",
            "They must not the equinine in the island, where they struck that the trees reasonable on him\n",
            "bound at the bottom of the name of Ayrton. There was the\n",
            "inhabitants of the convicts, without speaking, the genero,\n",
            "on the southern voyages, and who doad renument of Jacamar to the islet\n",
            "and Pencroft remarked on Prospect Une Lashaby--it was\n",
            "incideaus of near and must voice were house. The walls shown\n",
            "if so made sheep.\n",
            "\n",
            "Two calted handsure voted on the Mercy. The results of the\n",
            "Mercy produced one of his stones, which always fed from makins of pottom\n",
            "which prevented its day. A flains of which were two\n",
            "men-or limited dashing. “The sky arrived at the time had been talled more timbers, or halfing instead of prolonged in the\n",
            "interior.\n",
            "\n",
            "\n",
            "\n",
            "Chapter 10\n",
            "\n",
            "“But,” said the engineer thought of views of the earter’s adventation's.\n",
            "\n",
            "They found on the road, Cyrus Harding’s rigges, Pencroft.\n",
            "\n",
            "“Well! the jaguar had or two years, it was--with you are not marked by the waters which might soon returned\n",
            "the convicts’ miles did not return to the help of veret on the\n",
            "Mercy, and we don’t he men to leave Lincoln Island.\n",
            "Now, Mr. Harding, Top, nor even it?” said Harver, who were now\n",
            "separated Cyrus Harding stood the sand in the sand, which the thing-decishonical ament two claspulating trees, for the chances of\n",
            "Prospect Heights, Neb, who stopping all those things of bricks and\n",
            "make knowledge of her being solidly, cropped it at any wish to storm\n",
            "the islet. A0stmens, Polute an opposite sheep to the point\n",
            "when the count of night. The skik in the moment a voyagers of an enclosure as if the contrary, it would be yet with the first mouth.\n",
            "The water was extramed it by the first bank, from the\n",
            "Chimneys, and now only the stonerious rusk of Richmond.\n",
            "\n",
            "The settlers opened the pieces. This was he a less which\n",
            "Harding attacked it in this powdered escaped at all!\n",
            "All will do’n a to do after if it would return the batts of square, forming the shore, and was the stell.\n",
            "\n",
            "This skin would only good rock. Certainly, less surprise\n",
            "from the forest, to the engineer desired to table,\n",
            "eventulation. The soil was gival tide. The engineer sinked in\n",
            "two companions arrived at share and closed. It would be found for the angle the wall of\n",
            "the down, they wished to beat? The colfy. The road first to the night of which had scarcely sliumphed.\n",
            "At facilitation was only that remains of dambing, with a dying leave no last of his hands, and in simple to calculate and\n",
            "finalying with a few days and in last for the inhabitsness. The rest\n",
            "would save him Sout lone, but distributed in the notice,\n",
            "therefore, torcome attacked a distribution extreme circumstant\n",
            "bits of rays, whose hoarse.\n",
            "\n",
            "Howeved, if the cast than than as to those renders of a large\n",
            "sea-swarled under the coal was finutes... produced by all this document into\n",
            "the islet, guided by Union and Master Jup\n"
          ]
        }
      ]
    },
    {
      "cell_type": "code",
      "source": [
        "print(sample(loaded, starting_str='Ngwendete muno', len_generated_txt=500, scale_factor=2.0))"
      ],
      "metadata": {
        "colab": {
          "base_uri": "https://localhost:8080/"
        },
        "id": "3QPMY0Gb_AuJ",
        "outputId": "a41e4ec7-39ca-466e-ffad-10c36c48b481"
      },
      "execution_count": null,
      "outputs": [
        {
          "output_type": "stream",
          "name": "stdout",
          "text": [
            "Ngwendete munor of the balloon, and to the sea for either the convicts, who were still living!”\n",
            "\n",
            "And the reporter was ready to do this incident, and the colonists appeared as if the colonists were not only of the plateau of Prospect Heights.\n",
            "\n",
            "The sailor said to the southern part of the lake, and\n",
            "the stars of the convicts were the last time to the opening\n",
            "both of the islet when the sailor and the engineer only been so fortunately, and at a sort of all side it would be towards the storms which had stopped by th\n"
          ]
        }
      ]
    },
    {
      "cell_type": "code",
      "source": [
        "print(sample(loaded, starting_str='Ngwendete muno', len_generated_txt=500, scale_factor=0.5))"
      ],
      "metadata": {
        "colab": {
          "base_uri": "https://localhost:8080/"
        },
        "id": "CmPab-uc_rhY",
        "outputId": "f79ef673-a4ad-4e18-d917-b1b3e52d83dd"
      },
      "execution_count": null,
      "outputs": [
        {
          "output_type": "stream",
          "name": "stdout",
          "text": [
            "Ngwendete munord rloid to hime, noo Amincian” has creater, to, Pearchiff\n",
            "and\n",
            "Capon, set throight highsrittsy a kirgp. \n",
            "His nime report you!” shouted. The blvewelt duellwar\n",
            "anvanytha. Noh!” replied Ayrton By Cluswer\n",
            "to oag. It is!” said Punafasjaps. Tsleinds\n",
            "cropced, thorough tim--”\n",
            "3, gailitaryhwescepts. As sayblandous.” “Byried the squout lukina zenitionlage.o.;.. Ef follow Richtroascenine northwival you creepers to term ylass!”\n",
            "\n",
            "Furing its watco the “was, cart!\n",
            "tracs to  fip, Heaply.\n",
            "\n",
            "“Bo onifie to receiet \n"
          ]
        }
      ]
    },
    {
      "cell_type": "code",
      "source": [
        "print(sample(loaded, starting_str='Ngwendete muno', len_generated_txt=500, scale_factor=5.0))"
      ],
      "metadata": {
        "colab": {
          "base_uri": "https://localhost:8080/"
        },
        "id": "3ARSruyDAWjb",
        "outputId": "50d17bc9-ce99-408b-f612-58df4388d1ba"
      },
      "execution_count": null,
      "outputs": [
        {
          "output_type": "stream",
          "name": "stdout",
          "text": [
            "Ngwendete munor of the convicts, and the convicts were all the stream which would be allowed the convicts, and the settlers were in the bottom of the islet, and the sailor and the sailor and the sailor returned to the southern spurs of the coast.\n",
            "\n",
            "The sailor and the sailor and the sailor and his companions were still the sun without stopping the storm of the islet, and the convicts were all the shore of the islet, and the convicts would have been able to struggle a little band, the settlers were the convicts \n"
          ]
        }
      ]
    },
    {
      "cell_type": "code",
      "source": [
        "print(sample(loaded, starting_str='The island', len_generated_txt=1000, scale_factor=1.5))"
      ],
      "metadata": {
        "colab": {
          "base_uri": "https://localhost:8080/"
        },
        "id": "luOpALIPAcO0",
        "outputId": "d254622f-7b74-4db4-8599-6ab2bf3302f8"
      },
      "execution_count": null,
      "outputs": [
        {
          "output_type": "stream",
          "name": "stdout",
          "text": [
            "The island appear and replication or any minute is not only this case would have been liked that the brig approached the thirty-engineer. The\n",
            "injurced was the creek on this storms which had appeared to bring in the far from the northeast, and the object of a battery of the island\n",
            "in the world in the shore. It would be our trees mars of the submersions of the shore. The ape of a continent of the stones sprang up. The light of the atmosphere alone was to bring the passage of the\n",
            "interior of the lake, so as to try the sources of the coast of the cone was ended with the prisoners of the brig became returned to the southern parts of the lake, and yet they would be transformed into the photoet\n",
            "of the islet on the convicts, and the most discovery men away all the stream, when the settlers had been searched the gentle stable. The hind of\n",
            "the brig would be set forth in consequence.\n",
            "\n",
            "“You are right, he contented the least still more very fresh parts of the United States, or the heap of a business of the\n",
            "v\n"
          ]
        }
      ]
    },
    {
      "cell_type": "code",
      "source": [],
      "metadata": {
        "id": "PJ4RlGvpK3HM"
      },
      "execution_count": null,
      "outputs": []
    }
  ],
  "metadata": {
    "kernelspec": {
      "display_name": "Python 3",
      "name": "python3"
    },
    "language_info": {
      "codemirror_mode": {
        "name": "ipython",
        "version": 3
      },
      "file_extension": ".py",
      "mimetype": "text/x-python",
      "name": "python",
      "nbconvert_exporter": "python",
      "pygments_lexer": "ipython3",
      "version": "3.10.12"
    },
    "colab": {
      "provenance": [],
      "gpuType": "T4"
    },
    "accelerator": "GPU"
  },
  "nbformat": 4,
  "nbformat_minor": 0
}