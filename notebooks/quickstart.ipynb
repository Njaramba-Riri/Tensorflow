{
 "cells": [
  {
   "cell_type": "code",
   "execution_count": 1,
   "metadata": {},
   "outputs": [
    {
     "data": {
      "text/plain": [
       "'2.15.0'"
      ]
     },
     "execution_count": 1,
     "metadata": {},
     "output_type": "execute_result"
    }
   ],
   "source": [
    "import tensorflow as tf\n",
    "tf.__version__"
   ]
  },
  {
   "cell_type": "code",
   "execution_count": 3,
   "metadata": {},
   "outputs": [
    {
     "name": "stdout",
     "output_type": "stream",
     "text": [
      "Downloading data from https://storage.googleapis.com/tensorflow/tf-keras-datasets/mnist.npz\n",
      "11490434/11490434 [==============================] - 236s 21us/step\n"
     ]
    }
   ],
   "source": [
    "mnist = tf.keras.datasets.mnist\n",
    "\n",
    "(x_train, y_train), (x_test, y_test) = mnist.load_data()\n",
    "x_train, x_test = x_train / 255.0 , x_test / 255.0"
   ]
  },
  {
   "cell_type": "code",
   "execution_count": 5,
   "metadata": {},
   "outputs": [],
   "source": [
    "model = tf.keras.models.Sequential([\n",
    "    tf.keras.layers.Flatten(input_shape=(28, 28)),\n",
    "    tf.keras.layers.Dense(128, activation='relu'),\n",
    "    tf.keras.layers.Dropout(0.2),\n",
    "    tf.keras.layers.Dense(10)\n",
    "])"
   ]
  },
  {
   "cell_type": "code",
   "execution_count": 7,
   "metadata": {},
   "outputs": [
    {
     "name": "stdout",
     "output_type": "stream",
     "text": [
      "1/1 [==============================] - 0s 35ms/step\n"
     ]
    },
    {
     "data": {
      "text/plain": [
       "array([[ 0.48679668, -0.30727652, -0.58182204, -0.03105865,  0.32014263,\n",
       "        -0.59404194,  0.06471579,  0.08737686,  0.7465235 ,  0.8450874 ]],\n",
       "      dtype=float32)"
      ]
     },
     "execution_count": 7,
     "metadata": {},
     "output_type": "execute_result"
    }
   ],
   "source": [
    "predictions = model.predict(x_train[:1])#Model returns logits, or log-odds score--one for each class.\n",
    "predictions"
   ]
  },
  {
   "cell_type": "code",
   "execution_count": 9,
   "metadata": {},
   "outputs": [
    {
     "data": {
      "text/plain": [
       "array([[0.13104564, 0.05923262, 0.0450119 , 0.07807659, 0.11092912,\n",
       "        0.0444652 , 0.08592413, 0.08789349, 0.1699106 , 0.18751077]],\n",
       "      dtype=float32)"
      ]
     },
     "execution_count": 9,
     "metadata": {},
     "output_type": "execute_result"
    }
   ],
   "source": [
    "tf.nn.softmax(predictions).numpy()#Converts logits to to probabilities for each class."
   ]
  },
  {
   "cell_type": "code",
   "execution_count": 10,
   "metadata": {},
   "outputs": [],
   "source": [
    "loss_fn = tf.keras.losses.SparseCategoricalCrossentropy(from_logits=True)\n",
    "#Loss function takes in vectors of ground truth values and those of the logits, and returns a scalar loss for each."
   ]
  },
  {
   "cell_type": "code",
   "execution_count": 13,
   "metadata": {},
   "outputs": [
    {
     "data": {
      "text/plain": [
       "3.1130483"
      ]
     },
     "execution_count": 13,
     "metadata": {},
     "output_type": "execute_result"
    }
   ],
   "source": [
    "loss_fn(y_train[:1], predictions).numpy()"
   ]
  },
  {
   "cell_type": "code",
   "execution_count": 14,
   "metadata": {},
   "outputs": [],
   "source": [
    "#Configure and compile the model.\n",
    "model.compile(optimizer='adam',\n",
    "              loss=loss_fn,\n",
    "              metrics=['accuracy']\n",
    "              )"
   ]
  },
  {
   "cell_type": "code",
   "execution_count": 15,
   "metadata": {},
   "outputs": [
    {
     "name": "stdout",
     "output_type": "stream",
     "text": [
      "Epoch 1/5\n",
      "1875/1875 [==============================] - 21s 3ms/step - loss: 0.2939 - accuracy: 0.9151\n",
      "Epoch 2/5\n",
      "1875/1875 [==============================] - 7s 4ms/step - loss: 0.1400 - accuracy: 0.9583\n",
      "Epoch 3/5\n",
      "1875/1875 [==============================] - 9s 5ms/step - loss: 0.1052 - accuracy: 0.9680\n",
      "Epoch 4/5\n",
      "1875/1875 [==============================] - 8s 4ms/step - loss: 0.0851 - accuracy: 0.9735\n",
      "Epoch 5/5\n",
      "1875/1875 [==============================] - 8s 4ms/step - loss: 0.0724 - accuracy: 0.9776\n"
     ]
    },
    {
     "data": {
      "text/plain": [
       "<keras.src.callbacks.History at 0x7f2dec307190>"
      ]
     },
     "execution_count": 15,
     "metadata": {},
     "output_type": "execute_result"
    }
   ],
   "source": [
    "#Train the model.\n",
    "model.fit(x_train, y_train, epochs=5)"
   ]
  },
  {
   "cell_type": "code",
   "execution_count": 16,
   "metadata": {},
   "outputs": [
    {
     "name": "stdout",
     "output_type": "stream",
     "text": [
      "313/313 - 1s - loss: 0.0711 - accuracy: 0.9778 - 917ms/epoch - 3ms/step\n"
     ]
    },
    {
     "data": {
      "text/plain": [
       "[0.07112301886081696, 0.9778000116348267]"
      ]
     },
     "execution_count": 16,
     "metadata": {},
     "output_type": "execute_result"
    }
   ],
   "source": [
    "#Evaluate.\n",
    "model.evaluate(x_test, y_test, verbose=2)"
   ]
  },
  {
   "cell_type": "code",
   "execution_count": 17,
   "metadata": {},
   "outputs": [],
   "source": [
    "#Returning probabilities, wrap the model and attach softmax to it.\n",
    "probability_model = tf.keras.Sequential([\n",
    "    model,\n",
    "    tf.keras.layers.Softmax()\n",
    "])"
   ]
  },
  {
   "cell_type": "code",
   "execution_count": 18,
   "metadata": {},
   "outputs": [
    {
     "data": {
      "text/plain": [
       "array([[1.0748377e-07, 2.2539622e-08, 8.8603701e-07, 1.1856243e-05,\n",
       "        6.2255492e-12, 1.5508010e-07, 4.8842506e-13, 9.9998391e-01,\n",
       "        1.3508306e-07, 3.0771573e-06],\n",
       "       [5.8176607e-07, 9.7282376e-04, 9.9902332e-01, 1.6289961e-06,\n",
       "        8.9713939e-16, 1.2388365e-06, 4.6509360e-08, 3.3698698e-14,\n",
       "        3.1663967e-07, 1.3456521e-14],\n",
       "       [1.0389068e-06, 9.9861073e-01, 5.9637695e-04, 3.7265866e-06,\n",
       "        2.3544892e-05, 7.5821144e-06, 1.1175438e-05, 6.4227672e-04,\n",
       "        1.0071015e-04, 2.7152455e-06],\n",
       "       [9.9988854e-01, 1.7294900e-10, 7.8240128e-06, 1.3270745e-08,\n",
       "        1.9769658e-08, 6.6607242e-07, 9.9922210e-05, 2.9976018e-06,\n",
       "        1.1260753e-09, 1.8579883e-08],\n",
       "       [1.1633563e-05, 1.4289322e-08, 1.3646461e-05, 3.3038975e-07,\n",
       "        9.9405330e-01, 6.1197818e-07, 8.8902045e-05, 1.4761134e-04,\n",
       "        5.2500973e-06, 5.6787506e-03]], dtype=float32)"
      ]
     },
     "execution_count": 18,
     "metadata": {},
     "output_type": "execute_result"
    }
   ],
   "source": [
    "probability_model(x_test[:5]).numpy()"
   ]
  },
  {
   "cell_type": "code",
   "execution_count": 19,
   "metadata": {},
   "outputs": [
    {
     "data": {
      "text/plain": [
       "<tf.Tensor: shape=(5, 10), dtype=float32, numpy=\n",
       "array([[1.0748377e-07, 2.2539622e-08, 8.8603701e-07, 1.1856243e-05,\n",
       "        6.2255492e-12, 1.5508010e-07, 4.8842506e-13, 9.9998391e-01,\n",
       "        1.3508306e-07, 3.0771573e-06],\n",
       "       [5.8176607e-07, 9.7282376e-04, 9.9902332e-01, 1.6289961e-06,\n",
       "        8.9713939e-16, 1.2388365e-06, 4.6509360e-08, 3.3698698e-14,\n",
       "        3.1663967e-07, 1.3456521e-14],\n",
       "       [1.0389068e-06, 9.9861073e-01, 5.9637695e-04, 3.7265866e-06,\n",
       "        2.3544892e-05, 7.5821144e-06, 1.1175438e-05, 6.4227672e-04,\n",
       "        1.0071015e-04, 2.7152455e-06],\n",
       "       [9.9988854e-01, 1.7294900e-10, 7.8240128e-06, 1.3270745e-08,\n",
       "        1.9769658e-08, 6.6607242e-07, 9.9922210e-05, 2.9976018e-06,\n",
       "        1.1260753e-09, 1.8579883e-08],\n",
       "       [1.1633563e-05, 1.4289322e-08, 1.3646461e-05, 3.3038975e-07,\n",
       "        9.9405330e-01, 6.1197818e-07, 8.8902045e-05, 1.4761134e-04,\n",
       "        5.2500973e-06, 5.6787506e-03]], dtype=float32)>"
      ]
     },
     "execution_count": 19,
     "metadata": {},
     "output_type": "execute_result"
    }
   ],
   "source": [
    "probability_model(x_test[:5])"
   ]
  },
  {
   "cell_type": "code",
   "execution_count": null,
   "metadata": {},
   "outputs": [],
   "source": []
  }
 ],
 "metadata": {
  "kernelspec": {
   "display_name": "base",
   "language": "python",
   "name": "python3"
  },
  "language_info": {
   "codemirror_mode": {
    "name": "ipython",
    "version": 3
   },
   "file_extension": ".py",
   "mimetype": "text/x-python",
   "name": "python",
   "nbconvert_exporter": "python",
   "pygments_lexer": "ipython3",
   "version": "3.10.12"
  }
 },
 "nbformat": 4,
 "nbformat_minor": 2
}
